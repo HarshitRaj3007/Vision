{
 "cells": [
  {
   "cell_type": "code",
   "execution_count": null,
   "id": "8bac6b6c",
   "metadata": {},
   "outputs": [],
   "source": [
    "import numpy as np\n",
    "import tensorflow as tf\n",
    "from tensorflow import keras\n",
    "from tensorflow.keras import layers\n",
    "from tensorflow.keras.preprocessing import image\n",
    "from tensorflow.keras.applications import imagenet_utils\n",
    "from IPython.display import Image\n",
    "\n",
    "from data_utils import get_CIFAR10_data\n",
    "from tensorflow.keras.utils import to_categorical"
   ]
  },
  {
   "cell_type": "code",
   "execution_count": null,
   "id": "9683b2ef",
   "metadata": {},
   "outputs": [],
   "source": [
    "physical_devices = tf.config.experimental.list_physical_devices('CPU')\n",
    "print(physical_devices)\n",
    "# tf.config.experimental.set_memory_growth(physical_devices[0], True)"
   ]
  },
  {
   "cell_type": "code",
   "execution_count": null,
   "id": "aff7a757",
   "metadata": {},
   "outputs": [],
   "source": [
    "%cd ~/Desktop/ML/ITSP/project/OD_Accuracy/datasets/\n",
    "!bash get_datasets.sh\n",
    "%cd ~/Desktop/ML/ITSP/project/OD_Accuracy/"
   ]
  },
  {
   "cell_type": "code",
   "execution_count": null,
   "id": "309805b3",
   "metadata": {},
   "outputs": [],
   "source": [
    "# Load the (preprocessed) CIFAR-10 data.\n",
    "data = get_CIFAR10_data()\n",
    "for k, v in list(data.items()):\n",
    "    print(f\"{k}: {v.shape}\")"
   ]
  },
  {
   "cell_type": "code",
   "execution_count": null,
   "id": "753e27a1",
   "metadata": {},
   "outputs": [],
   "source": [
    "X_train = data['X_train']\n",
    "y_train = data['y_train']\n",
    "X_val = data['X_val']\n",
    "y_val = data['y_val']\n",
    "X_test = data['X_test']\n",
    "y_test = data['y_test']\n",
    "\n",
    "X_train = X_train.reshape(-1,32,32,3)\n",
    "X_val = X_val.reshape(-1,32,32,3)\n",
    "X_test = X_test.reshape(-1,32,32,3)"
   ]
  },
  {
   "cell_type": "code",
   "execution_count": null,
   "id": "7d92f000",
   "metadata": {},
   "outputs": [],
   "source": [
    "Xtr_small = X_train[:4900]\n",
    "ytr_small = y_train[:4900]\n",
    "# Xval_small = X_val[:1000]\n",
    "# yval_small = y_val[:1000]"
   ]
  },
  {
   "cell_type": "code",
   "execution_count": null,
   "id": "4890344d",
   "metadata": {},
   "outputs": [],
   "source": [
    "y_train1 = to_categorical(y_train,num_classes=10, dtype='int32')\n",
    "y_val1 = to_categorical(y_val,num_classes=10, dtype='int32')\n",
    "ytr_small1 = to_categorical(ytr_small,num_classes=10, dtype='int32')\n",
    "# yval_small1 = to_categorical(yval_small,num_classes=10, dtype='int32')\n",
    "\n",
    "y_test1 = to_categorical(y_test,num_classes=10, dtype='int32')"
   ]
  },
  {
   "cell_type": "code",
   "execution_count": null,
   "id": "0172b05b",
   "metadata": {},
   "outputs": [],
   "source": [
    "input_shape = (32,32,3)"
   ]
  },
  {
   "cell_type": "code",
   "execution_count": null,
   "id": "f1075af0",
   "metadata": {},
   "outputs": [],
   "source": [
    "model = keras.Sequential(\n",
    "    [\n",
    "        layers.Input(input_shape),\n",
    "        layers.Conv2D(filters=32, kernel_size=(3,3), activation='relu', padding='same'),\n",
    "        layers.BatchNormalization(), #axis=-1, epsilon=2e-5, momentum=0.9\n",
    "        layers.Conv2D(filters=64, kernel_size=(3,3), activation='relu', padding='same'),\n",
    "        layers.BatchNormalization(),\n",
    "        layers.MaxPooling2D(strides=2),\n",
    "        \n",
    "        layers.Conv2D(filters=128, kernel_size=(5,5), activation='relu', padding='same'),\n",
    "        layers.BatchNormalization(),\n",
    "        layers.Conv2D(filters=256, kernel_size=(5,5), activation='relu', padding='same'),\n",
    "        layers.BatchNormalization(),\n",
    "        layers.Conv2D(filters=512, kernel_size=(3,3), activation='relu', padding='same'),\n",
    "        layers.BatchNormalization(),\n",
    "        layers.Conv2D(filters=512, kernel_size=(5,5), activation='relu', padding='same'),\n",
    "        layers.BatchNormalization(),\n",
    "        layers.MaxPooling2D(strides=2),\n",
    "        \n",
    "        layers.Flatten(),\n",
    "        layers.Dense(units=1024, activation='relu'),\n",
    "        layers.BatchNormalization(),\n",
    "        layers.Dense(units=10, activation='softmax'),\n",
    "    ])"
   ]
  },
  {
   "cell_type": "code",
   "execution_count": null,
   "id": "20c03c70",
   "metadata": {},
   "outputs": [],
   "source": [
    "model.compile(loss='categorical_crossentropy', optimizer='adam', metrics=['accuracy'])"
   ]
  },
  {
   "cell_type": "code",
   "execution_count": null,
   "id": "6aaf2cc9",
   "metadata": {},
   "outputs": [],
   "source": [
    "history = model.fit(x=Xtr_small, y=ytr_small1,\n",
    "                    epochs=10, validation_data=(X_val,y_val1))"
   ]
  },
  {
   "cell_type": "code",
   "execution_count": null,
   "id": "9cba7b3d",
   "metadata": {},
   "outputs": [],
   "source": [
    "model.evaluate(X_test,y_test1)"
   ]
  },
  {
   "cell_type": "code",
   "execution_count": null,
   "id": "b1c74045",
   "metadata": {},
   "outputs": [],
   "source": [
    "# model2 = tf.keras.applications.MobileNetV2()"
   ]
  },
  {
   "cell_type": "code",
   "execution_count": null,
   "id": "f02276be",
   "metadata": {},
   "outputs": [],
   "source": [
    "# model2.summary()"
   ]
  },
  {
   "cell_type": "code",
   "execution_count": null,
   "id": "528507b3",
   "metadata": {},
   "outputs": [],
   "source": [
    "# img_name = 'TrafficSignal.jpg'\n",
    "# img_path = '/Users/harshitraj/Desktop/ML/ITSP/project/OD_Accuracy/TestImg/' + img_name\n",
    "# img = image.load_img(img_path, target_size=(224, 224))\n",
    "# x = image.img_to_array(img)\n",
    "# x = np.expand_dims(x, axis=0)\n",
    "# x = tf.keras.applications.mobilenet_v2.preprocess_input(x)\n",
    "# Image(img_path)"
   ]
  },
  {
   "cell_type": "code",
   "execution_count": null,
   "id": "447b2d73",
   "metadata": {},
   "outputs": [],
   "source": [
    "# predictions = model.predict(x)"
   ]
  },
  {
   "cell_type": "code",
   "execution_count": null,
   "id": "a0529d51",
   "metadata": {},
   "outputs": [],
   "source": [
    "# model2.compile()"
   ]
  },
  {
   "cell_type": "code",
   "execution_count": null,
   "id": "40f5b76b",
   "metadata": {},
   "outputs": [],
   "source": [
    "# model2.evaluate(X_test,y_test1)"
   ]
  },
  {
   "cell_type": "code",
   "execution_count": null,
   "id": "b0d55811",
   "metadata": {},
   "outputs": [],
   "source": [
    "# # results = imagenet_utils.decode_predictions(predictions)\n",
    "# results = tf.keras.applications.mobilenet_v2.decode_predictions(predictions)\n",
    "# results"
   ]
  }
 ],
 "metadata": {
  "kernelspec": {
   "display_name": "Python 3 (ipykernel)",
   "language": "python",
   "name": "python3"
  },
  "language_info": {
   "codemirror_mode": {
    "name": "ipython",
    "version": 3
   },
   "file_extension": ".py",
   "mimetype": "text/x-python",
   "name": "python",
   "nbconvert_exporter": "python",
   "pygments_lexer": "ipython3",
   "version": "3.9.12"
  }
 },
 "nbformat": 4,
 "nbformat_minor": 5
}
