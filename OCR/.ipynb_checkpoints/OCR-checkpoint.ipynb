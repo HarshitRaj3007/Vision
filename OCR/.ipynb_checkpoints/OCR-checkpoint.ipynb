{
 "cells": [
  {
   "cell_type": "code",
   "execution_count": 1,
   "id": "58fb2c71",
   "metadata": {},
   "outputs": [],
   "source": [
    "import easyocr\n",
    "import cv2\n",
    "from matplotlib import pyplot as plt\n",
    "import numpy as np"
   ]
  },
  {
   "cell_type": "code",
   "execution_count": 2,
   "id": "25314ad6",
   "metadata": {},
   "outputs": [
    {
     "name": "stdout",
     "output_type": "stream",
     "text": [
      "Requirement already satisfied: imageio[pyav] in c:\\users\\alok\\itsp\\lib\\site-packages (2.19.3)\n",
      "Requirement already satisfied: pillow>=8.3.2 in c:\\users\\alok\\itsp\\lib\\site-packages (from imageio[pyav]) (9.1.1)\n",
      "Requirement already satisfied: numpy in c:\\users\\alok\\itsp\\lib\\site-packages (from imageio[pyav]) (1.22.4)\n",
      "Requirement already satisfied: av in c:\\users\\alok\\itsp\\lib\\site-packages (from imageio[pyav]) (9.2.0)\n"
     ]
    }
   ],
   "source": [
    "!pip install imageio[pyav]"
   ]
  },
  {
   "cell_type": "code",
   "execution_count": 6,
   "id": "89cb715e",
   "metadata": {},
   "outputs": [
    {
     "name": "stderr",
     "output_type": "stream",
     "text": [
      "Using CPU. Note: This module is much faster with a GPU.\n"
     ]
    },
    {
     "name": "stdout",
     "output_type": "stream",
     "text": [
      "[([[172, 350], [1221, 350], [1221, 509], [172, 509]], 'Sample text here', 0.9992894863770724)]\n"
     ]
    }
   ],
   "source": [
    "#Reading images\n",
    "image_path = 'sample.jpg'\n",
    "\n",
    "reader = easyocr.Reader(['en'], gpu=False) #defining easy ocr reader and passing the language used\n",
    "result = reader.readtext(image_path)#reading the image using reader\n",
    "\n",
    "print(result) #getting the result"
   ]
  },
  {
   "cell_type": "code",
   "execution_count": 8,
   "id": "d8b78af6",
   "metadata": {},
   "outputs": [
    {
     "data": {
      "text/plain": [
       "list"
      ]
     },
     "execution_count": 8,
     "metadata": {},
     "output_type": "execute_result"
    }
   ],
   "source": [
    "type(result) #list having an location, test, and confidence"
   ]
  },
  {
   "cell_type": "code",
   "execution_count": 13,
   "id": "b0965509",
   "metadata": {},
   "outputs": [
    {
     "data": {
      "image/png": "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\n",
      "text/plain": [
       "<Figure size 432x288 with 1 Axes>"
      ]
     },
     "metadata": {
      "needs_background": "light"
     },
     "output_type": "display_data"
    }
   ],
   "source": [
    "#Drawing results\n",
    "top_left = tuple(result[0][0][0])\n",
    "bottom_right = tuple(result[0][0][2])\n",
    "text = result[0][1]\n",
    "font = cv2.FONT_HERSHEY_SIMPLEX\n",
    "\n",
    "img = cv2.imread(image_path)\n",
    "img = cv2.rectangle(img, top_left, bottom_right, (0,255,0), 5) #takes in tuple\n",
    "img = cv2.putText(img, text, top_left, font, 2, (0,0,255), 2, cv2.LINE_AA)\n",
    "plt.imshow(img)\n",
    "plt.show()"
   ]
  },

   "source": [
    "img = cv2.imread(image_path)\n",
    "spacer = 100\n",
    "for detection in result: \n",
    "    top_left = tuple(detection[0][0])\n",
    "    bottom_right = tuple(detection[0][2])\n",
    "    text = detection[1]\n",
    "    img = cv2.rectangle(img,top_left,bottom_right,(0,255,0),3)\n",
    "    img = cv2.putText(img,text,(20,spacer), font, 0.5,(0,255,0),2,cv2.LINE_AA)\n",
    "    spacer+=15\n",
    "    \n",
    "plt.imshow(img)\n",
    "plt.show()"
   ]
  },
  {
   "cell_type": "code",
   "execution_count": null,
   "id": "51b073f0",
   "metadata": {},
   "outputs": [],
   "source": []
  }
 ],
 "metadata": {
  "kernelspec": {
   "display_name": "Python 3 (ipykernel)",
   "language": "python",
   "name": "python3"
  },
  "language_info": {
   "codemirror_mode": {
    "name": "ipython",
    "version": 3
   },
   "file_extension": ".py",
   "mimetype": "text/x-python",
   "name": "python",
   "nbconvert_exporter": "python",
   "pygments_lexer": "ipython3",
   "version": "3.9.7"
  }
 },
 "nbformat": 4,
 "nbformat_minor": 5
}
