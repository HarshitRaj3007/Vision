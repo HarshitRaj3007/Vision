{
 "cells": [
  {
   "cell_type": "code",
   "execution_count": 1,
   "id": "ecab7cbd",
   "metadata": {},
   "outputs": [],
   "source": [
    "import os\n",
    "import uuid"
   ]
  },
  {
   "cell_type": "code",
   "execution_count": 2,
   "id": "1b9150c9",
   "metadata": {},
   "outputs": [
    {
     "name": "stdout",
     "output_type": "stream",
     "text": [
      "Requirement already satisfied: pyqt5 in c:\\users\\alok\\itsp\\lib\\site-packages (5.15.6)\n",
      "Requirement already satisfied: lxml in c:\\users\\alok\\itsp\\lib\\site-packages (4.9.0)\n",
      "Requirement already satisfied: PyQt5-Qt5>=5.15.2 in c:\\users\\alok\\itsp\\lib\\site-packages (from pyqt5) (5.15.2)\n",
      "Requirement already satisfied: PyQt5-sip<13,>=12.8 in c:\\users\\alok\\itsp\\lib\\site-packages (from pyqt5) (12.10.1)\n"
     ]
    }
   ],
   "source": [
    "!pip install --upgrade pyqt5 lxml"
   ]
  },
  {
   "cell_type": "code",
   "execution_count": 3,
   "id": "56390aa6",
   "metadata": {},
   "outputs": [],
   "source": [
    "LABELIMG_PATH = os.path.join('workspace', 'labelimg')"
   ]
  },
  {
   "cell_type": "code",
   "execution_count": 4,
   "id": "9daf79fd",
   "metadata": {},
   "outputs": [],
   "source": [
    "if os.name == 'posix':\n",
    "    !make qt5py3\n",
    "if os.name =='nt':\n",
    "    !cd {LABELIMG_PATH} && pyrcc5 -o libs/resources.py resources.qrc"
   ]
  },
  {
   "cell_type": "code",
   "execution_count": 5,
   "id": "725b7456",
   "metadata": {},
   "outputs": [
    {
     "name": "stdout",
     "output_type": "stream",
     "text": [
      "Cancel creation.\n",
      "Cancel creation.\n",
      "Cancel creation.\n",
      "Cancel creation.\n",
      "Cancel creation.\n",
      "Cancel creation.\n",
      "Cancel creation.\n",
      "Cancel creation.\n",
      "Cancel creation.\n",
      "Image:C:\\Users\\Alok\\Desktop\\object detection\\workspace\\images\\collectedImages\\livelong\\livelonge46b2109-e36a-11ec-9176-1826495fb2a1.jpg -> Annotation:C:/Users/Alok/Desktop/object detection/workspace/images/collectedImages/livelong/livelonge46b2109-e36a-11ec-9176-1826495fb2a1.xml\n",
      "Cancel creation.\n",
      "Image:C:\\Users\\Alok\\Desktop\\object detection\\workspace\\images\\collectedImages\\livelong\\livelonge9d691a5-e36a-11ec-9149-1826495fb2a1.jpg -> Annotation:C:/Users/Alok/Desktop/object detection/workspace/images/collectedImages/livelong/livelonge9d691a5-e36a-11ec-9149-1826495fb2a1.xml\n",
      "Image:C:\\Users\\Alok\\Desktop\\object detection\\workspace\\images\\collectedImages\\livelong\\livelongeba4da47-e36a-11ec-9fe6-1826495fb2a1.jpg -> Annotation:C:/Users/Alok/Desktop/object detection/workspace/images/collectedImages/livelong/livelongeba4da47-e36a-11ec-9fe6-1826495fb2a1.xml\n",
      "Image:C:\\Users\\Alok\\Desktop\\object detection\\workspace\\images\\collectedImages\\livelong\\livelonge8097afd-e36a-11ec-9149-1826495fb2a1.jpg -> Annotation:C:/Users/Alok/Desktop/object detection/workspace/images/collectedImages/livelong/livelonge8097afd-e36a-11ec-9149-1826495fb2a1.xml\n",
      "Image:C:\\Users\\Alok\\Desktop\\object detection\\workspace\\images\\collectedImages\\livelong\\livelonge63945eb-e36a-11ec-a186-1826495fb2a1.jpg -> Annotation:C:/Users/Alok/Desktop/object detection/workspace/images/collectedImages/livelong/livelonge63945eb-e36a-11ec-a186-1826495fb2a1.xml\n",
      "Image:C:\\Users\\Alok\\Desktop\\object detection\\workspace\\images\\collectedImages\\thankyou\\thankyoud4ec74f5-e36a-11ec-960b-1826495fb2a1.jpg -> Annotation:C:/Users/Alok/Desktop/object detection/workspace/images/collectedImages/thankyou/thankyoud4ec74f5-e36a-11ec-960b-1826495fb2a1.xml\n",
      "Image:C:\\Users\\Alok\\Desktop\\object detection\\workspace\\images\\collectedImages\\thankyou\\thankyoud6b9c4ff-e36a-11ec-98df-1826495fb2a1.jpg -> Annotation:C:/Users/Alok/Desktop/object detection/workspace/images/collectedImages/thankyou/thankyoud6b9c4ff-e36a-11ec-98df-1826495fb2a1.xml\n",
      "Image:C:\\Users\\Alok\\Desktop\\object detection\\workspace\\images\\collectedImages\\thankyou\\thankyoud320f327-e36a-11ec-849b-1826495fb2a1.jpg -> Annotation:C:/Users/Alok/Desktop/object detection/workspace/images/collectedImages/thankyou/thankyoud320f327-e36a-11ec-849b-1826495fb2a1.xml\n",
      "Image:C:\\Users\\Alok\\Desktop\\object detection\\workspace\\images\\collectedImages\\thankyou\\thankyoud8888974-e36a-11ec-818f-1826495fb2a1.jpg -> Annotation:C:/Users/Alok/Desktop/object detection/workspace/images/collectedImages/thankyou/thankyoud8888974-e36a-11ec-818f-1826495fb2a1.xml\n",
      "Image:C:\\Users\\Alok\\Desktop\\object detection\\workspace\\images\\collectedImages\\thankyou\\thankyouda54faab-e36a-11ec-ac2a-1826495fb2a1.jpg -> Annotation:C:/Users/Alok/Desktop/object detection/workspace/images/collectedImages/thankyou/thankyouda54faab-e36a-11ec-ac2a-1826495fb2a1.xml\n",
      "Image:C:\\Users\\Alok\\Desktop\\object detection\\workspace\\images\\collectedImages\\thumbsdown\\thumbsdownc1ccbadf-e36a-11ec-8ef1-1826495fb2a1.jpg -> Annotation:C:/Users/Alok/Desktop/object detection/workspace/images/collectedImages/thumbsdown/thumbsdownc1ccbadf-e36a-11ec-8ef1-1826495fb2a1.xml\n",
      "Image:C:\\Users\\Alok\\Desktop\\object detection\\workspace\\images\\collectedImages\\thumbsdown\\thumbsdownc3a1baef-e36a-11ec-8c6d-1826495fb2a1.jpg -> Annotation:C:/Users/Alok/Desktop/object detection/workspace/images/collectedImages/thumbsdown/thumbsdownc3a1baef-e36a-11ec-8c6d-1826495fb2a1.xml\n",
      "Image:C:\\Users\\Alok\\Desktop\\object detection\\workspace\\images\\collectedImages\\thumbsdown\\thumbsdownc73db5f4-e36a-11ec-a739-1826495fb2a1.jpg -> Annotation:C:/Users/Alok/Desktop/object detection/workspace/images/collectedImages/thumbsdown/thumbsdownc73db5f4-e36a-11ec-a739-1826495fb2a1.xml\n",
      "Cancel creation.\n",
      "Image:C:\\Users\\Alok\\Desktop\\object detection\\workspace\\images\\collectedImages\\thumbsdown\\thumbsdownc90ab1ec-e36a-11ec-ac85-1826495fb2a1.jpg -> Annotation:C:/Users/Alok/Desktop/object detection/workspace/images/collectedImages/thumbsdown/thumbsdownc90ab1ec-e36a-11ec-ac85-1826495fb2a1.xml\n",
      "Image:C:\\Users\\Alok\\Desktop\\object detection\\workspace\\images\\collectedImages\\thumbsdown\\thumbsdownc5705ba8-e36a-11ec-9654-1826495fb2a1.jpg -> Annotation:C:/Users/Alok/Desktop/object detection/workspace/images/collectedImages/thumbsdown/thumbsdownc5705ba8-e36a-11ec-9654-1826495fb2a1.xml\n",
      "Image:C:\\Users\\Alok\\Desktop\\object detection\\workspace\\images\\collectedImages\\thumbsup\\thumbsupaeeae21b-e36a-11ec-8129-1826495fb2a1.jpg -> Annotation:C:/Users/Alok/Desktop/object detection/workspace/images/collectedImages/thumbsup/thumbsupaeeae21b-e36a-11ec-8129-1826495fb2a1.xml\n",
      "Image:C:\\Users\\Alok\\Desktop\\object detection\\workspace\\images\\collectedImages\\thumbsup\\thumbsupb0bb871c-e36a-11ec-8066-1826495fb2a1.jpg -> Annotation:C:/Users/Alok/Desktop/object detection/workspace/images/collectedImages/thumbsup/thumbsupb0bb871c-e36a-11ec-8066-1826495fb2a1.xml\n",
      "Cancel creation.\n",
      "Image:C:\\Users\\Alok\\Desktop\\object detection\\workspace\\images\\collectedImages\\thumbsup\\thumbsupb28b0837-e36a-11ec-83ad-1826495fb2a1.jpg -> Annotation:C:/Users/Alok/Desktop/object detection/workspace/images/collectedImages/thumbsup/thumbsupb28b0837-e36a-11ec-83ad-1826495fb2a1.xml\n",
      "Image:C:\\Users\\Alok\\Desktop\\object detection\\workspace\\images\\collectedImages\\thumbsup\\thumbsupb62a9a1e-e36a-11ec-8ee8-1826495fb2a1.jpg -> Annotation:C:/Users/Alok/Desktop/object detection/workspace/images/collectedImages/thumbsup/thumbsupb62a9a1e-e36a-11ec-8ee8-1826495fb2a1.xml\n",
      "Image:C:\\Users\\Alok\\Desktop\\object detection\\workspace\\images\\collectedImages\\thumbsup\\thumbsupb459bbbf-e36a-11ec-9b56-1826495fb2a1.jpg -> Annotation:C:/Users/Alok/Desktop/object detection/workspace/images/collectedImages/thumbsup/thumbsupb459bbbf-e36a-11ec-9b56-1826495fb2a1.xml\n"
     ]
    }
   ],
   "source": [
    "!cd {LABELIMG_PATH} && python labelImg.py"
   ]
  },
  {
   "cell_type": "code",
   "execution_count": null,
   "id": "0de798ad",
   "metadata": {},
   "outputs": [],
   "source": []
  }
 ],
 "metadata": {
  "kernelspec": {
   "display_name": "Python 3 (ipykernel)",
   "language": "python",
   "name": "python3"
  },
  "language_info": {
   "codemirror_mode": {
    "name": "ipython",
    "version": 3
   },
   "file_extension": ".py",
   "mimetype": "text/x-python",
   "name": "python",
   "nbconvert_exporter": "python",
   "pygments_lexer": "ipython3",
   "version": "3.9.7"
  }
 },
 "nbformat": 4,
 "nbformat_minor": 5
}
