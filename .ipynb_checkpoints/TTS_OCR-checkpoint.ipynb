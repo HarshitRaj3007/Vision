{
 "cells": [
  {
   "cell_type": "code",
   "execution_count": 2,
   "id": "3892b954",
   "metadata": {},
   "outputs": [],
   "source": [
    "from gtts import gTTS\n",
    "import os\n",
    "import pyttsx3"
   ]
  },
  {
   "cell_type": "code",
   "execution_count": 3,
   "id": "09a18987",
   "metadata": {},
   "outputs": [],
   "source": [
    "import easyocr\n",
    "import cv2\n",
    "from matplotlib import pyplot as plt\n",
    "import numpy as np"
   ]
  },
  {
   "cell_type": "code",
   "execution_count": 45,
   "id": "c01560e3",
   "metadata": {},
   "outputs": [
    {
     "name": "stderr",
     "output_type": "stream",
     "text": [
      "Using CPU. Note: This module is much faster with a GPU.\n"
     ]
    },
    {
     "name": "stdout",
     "output_type": "stream",
     "text": [
      " Formal Business Letter David Johns ABC Company: 1234 5 123 Street New York, NY 01218 Jan 25,2021 Sarah XYZ Company Inc: 6789 - 789 Street New York, NY 04851 Re: Updated Billing Frequency Dear Ms. Sarah, Iam writing to inform you ofour new pricing model effective February 1, 2021. On the first ofFebruary, we will be switching from an annual billing cycle to a quarterly billing andthis letter contains important information that may impact your organization. After conducting extensive research and receiving feedback from our customers, we have determined that most customers strongly a quarterly billing cycle rather than an annual one. In order to best suit your needs, we have decided to offer this benefit, which will take effect on February 1,2021. This letter is simply to notify you ofthe upcoming changes, and no immediate action is required from you at this time. We thank you for your continued business. Sincerely, David Johns 6 oks cycle prefer\n"
     ]
    }
   ],
   "source": [
    "#Reading images\n",
    "image_path = './Test/testocr2.png'\n",
    "\n",
    "reader = easyocr.Reader(['en'], gpu=False) #defining easy ocr reader and passing the language used\n",
    "result = reader.readtext(image_path)#reading the image using reader\n",
    "\n",
    "my_text=\"\"\n",
    "for i in range(len(result)):\n",
    "    my_text+=\" \"+result[i][1]\n",
    "print(my_text)"
   ]
  },
  {
   "cell_type": "markdown",
   "id": "086bf1e6",
   "metadata": {},
   "source": [
    "### gTTS"
   ]
  },
  {
   "cell_type": "code",
   "execution_count": 46,
   "id": "9cd0e1bc",
   "metadata": {},
   "outputs": [
    {
     "data": {
      "text/plain": [
       "0"
      ]
     },
     "execution_count": 46,
     "metadata": {},
     "output_type": "execute_result"
    }
   ],
   "source": [
    "# my_text=\"this product has been developed under the guidance of IITB\"\n",
    "# fh=open(\"test.txt\",\"r\")\n",
    "# my_text=fh.read().replace('\\n',\" \")\n",
    "output=gTTS(text=my_text, lang='en', slow=False)\n",
    "output.save(\"output.mp3\")\n",
    "# fh.close()\n",
    "os.system(\"start output.mp3\")"
   ]
  },
  {
   "cell_type": "markdown",
   "id": "948da57f",
   "metadata": {},
   "source": [
    "### pyttsx3"
   ]
  },
  {
   "cell_type": "code",
   "execution_count": 3,
   "id": "1eb819a4",
   "metadata": {},
   "outputs": [],
   "source": [
    "engine = pyttsx3.init('sapi5')  \n",
    "engine.setProperty('rate',140)\n",
    "voices = engine.getProperty('voices')\n",
    "engine.setProperty('voice', voices[1].id) "
   ]
  },
  {
   "cell_type": "code",
   "execution_count": 47,
   "id": "3d5dfff5",
   "metadata": {},
   "outputs": [],
   "source": [
    "engine.say(my_text)\n",
    "engine.runAndWait()"
   ]
  },
  {
   "cell_type": "code",
   "execution_count": 1,
   "id": "b98d0e9a",
   "metadata": {},
   "outputs": [],
   "source": [
    "# Trying to test pytesseract\n",
    "import cv2 \n",
    "import pytesseract\n",
    "\n",
    "img = cv2.imread('testocr0.png')\n",
    "\n",
    "# Adding custom options\n",
    "custom_config = r'--oem 3 --psm 6'\n",
    "pytesseract.image_to_string(img, config=custom_config)"
   ]
  },
  {
   "cell_type": "code",
   "execution_count": null,
   "id": "46b55e09",
   "metadata": {},
   "outputs": [],
   "source": []
  },
  {
   "cell_type": "code",
   "execution_count": null,
   "id": "9ad6009c",
   "metadata": {},
   "outputs": [],
   "source": []
  },
  {
   "cell_type": "code",
   "execution_count": null,
   "id": "09be28b3",
   "metadata": {},
   "outputs": [],
   "source": []
  },
  {
   "cell_type": "code",
   "execution_count": null,
   "id": "c5d59417",
   "metadata": {},
   "outputs": [],
   "source": []
  },
  {
   "cell_type": "code",
   "execution_count": null,
   "id": "81858c27",
   "metadata": {},
   "outputs": [],
   "source": []
  }
 ],
 "metadata": {
  "kernelspec": {
   "display_name": "Python 3 (ipykernel)",
   "language": "python",
   "name": "python3"
  },
  "language_info": {
   "codemirror_mode": {
    "name": "ipython",
    "version": 3
   },
   "file_extension": ".py",
   "mimetype": "text/x-python",
   "name": "python",
   "nbconvert_exporter": "python",
   "pygments_lexer": "ipython3",
   "version": "3.9.7"
  }
 },
 "nbformat": 4,
 "nbformat_minor": 5
}
